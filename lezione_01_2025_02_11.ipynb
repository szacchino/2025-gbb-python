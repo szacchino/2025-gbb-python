{
  "cells": [
    {
      "cell_type": "markdown",
      "metadata": {
        "id": "XCUG0lLoAMCQ"
      },
      "source": [
        "<img src=\"https://raw.githubusercontent.com/szacchino/futuro/refs/heads/main/immagini/Banzi-Python.jpg\">\n",
        "<center><strong><a href=\"mailto://sandro.zacchino@unisalento.it\" width=\"100%\">Ing. Sandro Zacchino</a></strong></center>\n"
      ]
    },
    {
      "cell_type": "markdown",
      "metadata": {
        "id": "c4V5iMswgcdi"
      },
      "source": [
        "# Lezione 1 – 11/02/2025\n",
        "\n",
        "#LINK ALLA LEZIONE bit.ly/4gA0vLw\n",
        "\n",
        "Lezione 1 [Lezione 2](https://colab.research.google.com/drive/1cvbjWngj49nL40tCtsWlvOzHNECRm3me) [Lezione 3](https://colab.research.google.com/drive/1CyItYUYz8V_FEB8VspZ4JJpKY7tDjdub#scrollTo=pLw2PGvWyWAJ)"
      ]
    },
    {
      "cell_type": "markdown",
      "metadata": {
        "id": "lXJeIDgSVsCv"
      },
      "source": [
        "# Introduzione a Colab\n",
        "[Notebook](https://colab.research.google.com/drive/188O-xeoAnl-SdOnPBqunieCJloZfAJvz?usp=sharing)"
      ]
    },
    {
      "cell_type": "markdown",
      "metadata": {
        "id": "U2HXO0_9y1qr"
      },
      "source": [
        "# Espressioni Matematiche\n",
        "\n",
        "Possiamo iniziare ad utilizzare subito Python per valutare semplici espressioni matematiche. Un esempio di **espressione matematica** è quella ottenuta utilizzando i simboli delle 4 operazioni fondamentali: addizione (+), sottrazione (-), moltiplicazione(*) e divisione (/).\n",
        "\n",
        "Il risultato di una espressione matematica è sempre una espressione matematica oppure un **errore**."
      ]
    },
    {
      "cell_type": "code",
      "execution_count": null,
      "metadata": {
        "id": "x7Xd8R0MyOZ8",
        "colab": {
          "base_uri": "https://localhost:8080/"
        },
        "outputId": "ae0115db-3046-432f-99d5-ea82f3dc303c"
      },
      "outputs": [
        {
          "output_type": "execute_result",
          "data": {
            "text/plain": [
              "4"
            ]
          },
          "metadata": {},
          "execution_count": 1
        }
      ],
      "source": [
        "2 + 2"
      ]
    },
    {
      "cell_type": "code",
      "execution_count": null,
      "metadata": {
        "id": "TeVl_Omt2I_2",
        "colab": {
          "base_uri": "https://localhost:8080/",
          "height": 141
        },
        "outputId": "4113f979-0641-42dc-d73a-09f27ea77c72"
      },
      "outputs": [
        {
          "output_type": "error",
          "ename": "ZeroDivisionError",
          "evalue": "division by zero",
          "traceback": [
            "\u001b[0;31m---------------------------------------------------------------------------\u001b[0m",
            "\u001b[0;31mZeroDivisionError\u001b[0m                         Traceback (most recent call last)",
            "\u001b[0;32m<ipython-input-2-adafc2937013>\u001b[0m in \u001b[0;36m<cell line: 0>\u001b[0;34m()\u001b[0m\n\u001b[0;32m----> 1\u001b[0;31m \u001b[0;36m5\u001b[0m \u001b[0;34m/\u001b[0m \u001b[0;36m0\u001b[0m\u001b[0;34m\u001b[0m\u001b[0;34m\u001b[0m\u001b[0m\n\u001b[0m",
            "\u001b[0;31mZeroDivisionError\u001b[0m: division by zero"
          ]
        }
      ],
      "source": [
        "5 / 0"
      ]
    },
    {
      "cell_type": "markdown",
      "metadata": {
        "id": "u7p3y8dMuzDW"
      },
      "source": [
        "Operatore di elevazione a potenza"
      ]
    },
    {
      "cell_type": "code",
      "execution_count": null,
      "metadata": {
        "id": "sOwS2rzl2KZm",
        "colab": {
          "base_uri": "https://localhost:8080/"
        },
        "outputId": "cf081f24-125d-43d8-d748-dc319f8361a9"
      },
      "outputs": [
        {
          "output_type": "execute_result",
          "data": {
            "text/plain": [
              "25"
            ]
          },
          "metadata": {},
          "execution_count": 3
        }
      ],
      "source": [
        "5 ** 2"
      ]
    },
    {
      "cell_type": "markdown",
      "metadata": {
        "id": "vQdAIusXPlzx"
      },
      "source": [
        "Operatore di resto della divisione"
      ]
    },
    {
      "cell_type": "code",
      "execution_count": null,
      "metadata": {
        "id": "5p0AB32rPqUe",
        "colab": {
          "base_uri": "https://localhost:8080/"
        },
        "outputId": "900d6b41-a61f-4daf-f7cf-d915748cf22c"
      },
      "outputs": [
        {
          "output_type": "execute_result",
          "data": {
            "text/plain": [
              "2"
            ]
          },
          "metadata": {},
          "execution_count": 4
        }
      ],
      "source": [
        "9 % 7"
      ]
    },
    {
      "cell_type": "markdown",
      "metadata": {
        "id": "vCPJVladP7JJ"
      },
      "source": [
        "Operatore divisione intera"
      ]
    },
    {
      "cell_type": "code",
      "execution_count": null,
      "metadata": {
        "id": "CjbnQSgkPuSq",
        "colab": {
          "base_uri": "https://localhost:8080/"
        },
        "outputId": "a543eed6-5bca-4ab8-ca01-d6d390b52f0f"
      },
      "outputs": [
        {
          "output_type": "execute_result",
          "data": {
            "text/plain": [
              "2.5"
            ]
          },
          "metadata": {},
          "execution_count": 6
        }
      ],
      "source": [
        "5 / 2"
      ]
    },
    {
      "cell_type": "code",
      "execution_count": null,
      "metadata": {
        "id": "SBjF6yDFeyEg"
      },
      "outputs": [],
      "source": [
        "# operazione di divisione\n",
        "4 / 2"
      ]
    },
    {
      "cell_type": "code",
      "execution_count": null,
      "metadata": {
        "id": "yqUgnTuaf3nb"
      },
      "outputs": [],
      "source": [
        "# operazione di divisione intera\n",
        "4 // 2"
      ]
    },
    {
      "cell_type": "markdown",
      "metadata": {
        "id": "JcTTDWeAQD4R"
      },
      "source": [
        "> ### 🤔 Domanda\n",
        ">Quale risultato ci aspettiamo dalla seguente espressione matematica?\n",
        ">```\n",
        ">0.1 + 0.2\n",
        ">```"
      ]
    },
    {
      "cell_type": "code",
      "execution_count": null,
      "metadata": {
        "id": "DszoOovHyuUF",
        "colab": {
          "base_uri": "https://localhost:8080/"
        },
        "outputId": "dfa20e45-0c5c-4cb5-daf5-c8f0fdc5a218"
      },
      "outputs": [
        {
          "output_type": "execute_result",
          "data": {
            "text/plain": [
              "0.30000000000000004"
            ]
          },
          "metadata": {},
          "execution_count": 7
        }
      ],
      "source": [
        "# scrivere qui l'operazione (a proposito, questa linea si chiama commento)\n",
        "0.1 + 0.2"
      ]
    },
    {
      "cell_type": "markdown",
      "metadata": {
        "id": "F6CBSnVK1ucb"
      },
      "source": [
        "# Regole delle espressioni"
      ]
    },
    {
      "cell_type": "markdown",
      "metadata": {
        "id": "iX2CfEoNhike"
      },
      "source": [
        "> ### 🤔 Domanda\n",
        ">Quale risultato ci aspettiamo dalla seguente espressione?\n",
        ">```\n",
        ">10 + 20 * 30\n",
        ">```"
      ]
    },
    {
      "cell_type": "code",
      "execution_count": null,
      "metadata": {
        "id": "_lRFrqigQh4v"
      },
      "outputs": [],
      "source": [
        "# scrivere qui l'operazione\n"
      ]
    },
    {
      "cell_type": "markdown",
      "metadata": {
        "id": "jPHfMyBkRdSv"
      },
      "source": [
        "## Precedenza degli operatori"
      ]
    },
    {
      "cell_type": "markdown",
      "metadata": {
        "id": "QbL8ci0ehike"
      },
      "source": [
        "\n",
        "La seguente tabella prevede in alto gli operatori con precedenza maggiore.\n",
        "\n",
        "![Precedenza](https://github.com/szacchino/futuro/blob/main/immagini/Precedenza%20degli%20operatori.png?raw=true)\n",
        "\n",
        "Negli operatori con lo stesso livello di precedenza vale la regola dell'associatività dall'operatore più a sinistra nell'espressione a quello più a destra.\n",
        "\n",
        "![Associatività](https://github.com/szacchino/futuro/blob/main/immagini/Associativita%CC%80%20degli%20operatori.png?raw=true)"
      ]
    },
    {
      "cell_type": "markdown",
      "metadata": {
        "id": "N7_UbuT3TuoN"
      },
      "source": [
        "|Operatore|Significato|\n",
        "|---|---|\n",
        "|`()`|Parentesi|\n",
        "|`**`|Elevazione a potenza|\n",
        "|`+x, -x, ~x`|Segno positivo, Segno Negativo, NOT (Bit)|\n",
        "|`*, /, //, %`|Moltiplicazione, Divisione, Divisione Intera, Modulo (resto della divisione)|\n",
        "|`+, -`|Addizione, Sottrazione|\n",
        "|`<<, >>`|Shift (Bit)|\n",
        "|`&`|AND (Bit)|\n",
        "|`^`|XOR (Bit)|\n",
        "|`\\|`|OR (Bit)|\n",
        "|`==, !=, >, >=, <, <=, is, is not, in, not in`|Confronto, Identità, Appartenenza|\n",
        "|not|NOT Logico|\n",
        "|and|AND Logico|\n",
        "|or|OR Logico|"
      ]
    },
    {
      "cell_type": "markdown",
      "metadata": {
        "id": "O3YNDQOOhikf"
      },
      "source": [
        "> ### 🤔 Domanda\n",
        "> Che differenza c'è tra le seguenti operazioni?\n",
        "> ```\n",
        ">100 / 10 * 10\n",
        ">10 * 10 / 100\n",
        ">```"
      ]
    },
    {
      "cell_type": "code",
      "execution_count": null,
      "metadata": {
        "id": "WWxGcr2XZXxT"
      },
      "outputs": [],
      "source": [
        "# scrivere qui le operazioni\n"
      ]
    },
    {
      "cell_type": "markdown",
      "metadata": {
        "id": "F0J2wKOK0U1w"
      },
      "source": [
        "# Esercizio Precedenze.1\n",
        "\n",
        "Scrivere il codice che calcola la seguente espressione:\n",
        "\n",
        "$$\\frac{1}{2}+\\frac{\\frac{8}{5}}{\\frac{2}{3}+\\frac{8}{3} \\cdot \\frac{11}{4}}$$"
      ]
    },
    {
      "cell_type": "code",
      "execution_count": null,
      "metadata": {
        "id": "tRzCGo09To1z"
      },
      "outputs": [],
      "source": [
        "# scrivere in questa casella il codice dell'esercizio Precedenze.1\n",
        "# Suggerimento: scrivere dapprima l'espressione senza parentesi e poi aggiungere il minimo numero di parentesi che rendono corretto il risultato\n"
      ]
    },
    {
      "cell_type": "markdown",
      "metadata": {
        "id": "66g7nES-bjIi"
      },
      "source": [
        "# Espressioni\n",
        "\n",
        "Uno degli aspetti fondamentali della programmazione è, dunque, la scrittura di **espressioni**. Ogni espressione restituisce un dato che può essere:\n",
        "- void (nessun dato restituito)\n",
        "- numerico: 1, 2, 4.5\n",
        "- testuale: \"Ciao\", 'rosso'\n",
        "- booleano: True, False\n",
        "- oggetto\n",
        "- funzione\n",
        "\n",
        "Ciascun dato di questo elenco può inoltre essere vettoriale o matriciale (ad esempio un vettore di numeri o una lista di oggetti).\n",
        "\n",
        "> ### 🙋🙋‍♀️ Info\n",
        "> **Quando, al termine di un blocco di codice, è presente una espressione che restituisce un valore, Colab stampa a schermo questo valore.**\n",
        "\n",
        "Una espressione testuale viene anche definita *stringa di testo* o semplicemente *stringa*.\n",
        "\n",
        "## Operatori\n",
        "\n",
        "Per ogni tipo di espressione possono essere definiti degli operatori: per le espressioni matematiche ad esempio ci sono gli operatori corrispondenti alle operazioni aritmetiche, così come l'elevazione a potenza (**), la divisione intera (//) o il modulo (%)."
      ]
    },
    {
      "cell_type": "markdown",
      "metadata": {
        "id": "_jKwzt_0dJLv"
      },
      "source": [
        "# Espressione testuale\n",
        "\n",
        "È una espressione che restituisce un testo. Posso combinare più tipi di espressioni per generare un testo."
      ]
    },
    {
      "cell_type": "code",
      "execution_count": null,
      "metadata": {
        "id": "FFnkDUwc0cfE",
        "colab": {
          "base_uri": "https://localhost:8080/",
          "height": 35
        },
        "outputId": "7a85349d-886d-4b5b-f9da-3d29cb5ca716"
      },
      "outputs": [
        {
          "output_type": "execute_result",
          "data": {
            "text/plain": [
              "'Hello world'"
            ],
            "application/vnd.google.colaboratory.intrinsic+json": {
              "type": "string"
            }
          },
          "metadata": {},
          "execution_count": 9
        }
      ],
      "source": [
        "2+2\n",
        "\"Hello world\""
      ]
    },
    {
      "cell_type": "code",
      "execution_count": null,
      "metadata": {
        "id": "ih0T5OC1dhuM",
        "colab": {
          "base_uri": "https://localhost:8080/",
          "height": 35
        },
        "outputId": "86039421-6201-4272-eb5d-b7ef62f99b12"
      },
      "outputs": [
        {
          "output_type": "execute_result",
          "data": {
            "text/plain": [
              "'Hello Sandro!'"
            ],
            "application/vnd.google.colaboratory.intrinsic+json": {
              "type": "string"
            }
          },
          "metadata": {},
          "execution_count": 11
        }
      ],
      "source": [
        "# esempio di espressione testuale che fa uso di operatori tra espressioni testuali: il simbolo in questo caso è lo stesso dell'addizione\n",
        "\"Hello\" + \" Sandro\" + \"!\""
      ]
    },
    {
      "cell_type": "markdown",
      "metadata": {
        "id": "4ixRljW4d-eM"
      },
      "source": [
        "Quest'ultimo è un esempio di **operazione** tra espressioni. Il modo con cui una espressione testuale risponde all'operazione di somma è stato definito dal linguaggio di programmazione. Altri linguaggi potrebbero fornire risultati differenti."
      ]
    },
    {
      "cell_type": "markdown",
      "metadata": {
        "id": "qJSGHVAQtaf5"
      },
      "source": [
        ">### 🤔 Domanda\n",
        ">Qual è il risultato di questa espressione?\n",
        ">```\n",
        ">\"2 + 2\"\n",
        ">```"
      ]
    },
    {
      "cell_type": "code",
      "source": [
        "\"2 + 2\""
      ],
      "metadata": {
        "colab": {
          "base_uri": "https://localhost:8080/",
          "height": 35
        },
        "id": "qSxW_3o2ZlIZ",
        "outputId": "7d2c0643-be34-4c3d-e066-7dab79e5442f"
      },
      "execution_count": null,
      "outputs": [
        {
          "output_type": "execute_result",
          "data": {
            "text/plain": [
              "'2 + 2'"
            ],
            "application/vnd.google.colaboratory.intrinsic+json": {
              "type": "string"
            }
          },
          "metadata": {},
          "execution_count": 12
        }
      ]
    },
    {
      "cell_type": "code",
      "execution_count": null,
      "metadata": {
        "id": "G2Que15ZeT0N"
      },
      "outputs": [],
      "source": [
        "# Sappiamo definire il tipo di questa espressione?\n",
        "\"Hello\" + 123"
      ]
    },
    {
      "cell_type": "markdown",
      "metadata": {
        "id": "1kDMmBNRec_G"
      },
      "source": [
        "L'operazione di somma tra una espressione testuale ed una numerica non è definita."
      ]
    },
    {
      "cell_type": "markdown",
      "metadata": {
        "id": "h4usIeUGfrU8"
      },
      "source": [
        "# Assegnazione di una espressione ad una variabile\n",
        "\n",
        "Per riutilizzare il valore di una espressione possiamo assegnarla ad una variabile. L'operatore di assegnazione è il simbolo `=`."
      ]
    },
    {
      "cell_type": "code",
      "execution_count": null,
      "metadata": {
        "id": "4jZgJwMuf7e0"
      },
      "outputs": [],
      "source": [
        "x = 5\n",
        "\n",
        "x_1 = 5\n",
        "\n",
        "user_name=\"Sandro\"\n",
        "\n",
        "il_nome_dell_utente = \"Giacomo\"\n"
      ]
    },
    {
      "cell_type": "markdown",
      "metadata": {
        "id": "_ALRES1Wf_js"
      },
      "source": [
        "Se eseguiamo questa espressione, Colab non visualizza nulla. Ciò accade perché l'espressione di assegnazione `x = 5` è, a sua volta, una espressione void, ovvero non restituisce nessun dato.\n",
        "\n",
        "Se però scriviamo solo `x`, definiamo una espressione (in questo caso matematica perché x vale 5); poiché l'ultima espressione del blocco di codice è una espressione, Colab visualizzerà il suo valore.\n",
        "\n",
        "\n",
        "<div class=\"alert alert-info\">\n",
        "\n",
        "**Attenzione!**\n",
        "\n",
        "Il fatto che il valore di una espressione venga visualizzato è una caratteristica di Colab e non di Python. Lo stesso codice\n",
        "\n",
        "```\n",
        "x=5\n",
        "x\n",
        "```\n",
        "\n",
        "eseguito con l'interprete Python non produce alcun risultato.\n",
        "</div>"
      ]
    },
    {
      "cell_type": "code",
      "execution_count": null,
      "metadata": {
        "id": "E-lZErXLgNP1",
        "colab": {
          "base_uri": "https://localhost:8080/"
        },
        "outputId": "283a3141-9f39-44fd-bfe5-5c99dd55dbf2"
      },
      "outputs": [
        {
          "output_type": "execute_result",
          "data": {
            "text/plain": [
              "5"
            ]
          },
          "metadata": {},
          "execution_count": 21
        }
      ],
      "source": [
        "x"
      ]
    },
    {
      "cell_type": "markdown",
      "metadata": {
        "id": "o0CGH5gSgO9F"
      },
      "source": [
        "Se però scriviamo solo `x`, stiamo specificando una espressione (in questo caso numerica perché x vale 5) ed il valore dell'espressione numerica viene restituito e quindi Colab ha un valore da stampare a schermo."
      ]
    },
    {
      "cell_type": "code",
      "execution_count": null,
      "metadata": {
        "id": "3yIu3EJwhRXm",
        "colab": {
          "base_uri": "https://localhost:8080/"
        },
        "outputId": "fb69d50e-56da-4dff-ed58-1eec15c15639"
      },
      "outputs": [
        {
          "output_type": "execute_result",
          "data": {
            "text/plain": [
              "6"
            ]
          },
          "metadata": {},
          "execution_count": 22
        }
      ],
      "source": [
        "x + 1"
      ]
    },
    {
      "cell_type": "markdown",
      "metadata": {
        "id": "6kcuF2pKHS7A"
      },
      "source": [
        "Colab stampa a schermo solo l'ultima espressione (se l'ultima non è una espressione void)."
      ]
    },
    {
      "cell_type": "code",
      "execution_count": null,
      "metadata": {
        "id": "gvKUBdz8umPQ"
      },
      "outputs": [],
      "source": [
        "# possiamo assegnare ad una variabile l'intero valore di una espressione e riutilizzarlo in seguito\n",
        "x = 6 * 7 / 3"
      ]
    },
    {
      "cell_type": "code",
      "source": [
        "x"
      ],
      "metadata": {
        "colab": {
          "base_uri": "https://localhost:8080/"
        },
        "id": "dLbhgkJMkT6W",
        "outputId": "ab4af5fa-cb61-4231-8471-526f372a482f"
      },
      "execution_count": null,
      "outputs": [
        {
          "output_type": "execute_result",
          "data": {
            "text/plain": [
              "14.0"
            ]
          },
          "metadata": {},
          "execution_count": 24
        }
      ]
    },
    {
      "cell_type": "markdown",
      "metadata": {
        "id": "olRHr-QYiHkL"
      },
      "source": [
        "# Effetti collaterali\n",
        "\n",
        "Un altro aspetto fondamentale della programmazione è che alcune espressioni possono produrre **effetti collaterali**. Oltre ai classici operatori matematici, Python (cosi come altri linguaggi di programmazione) ne include altri. Ad esempio l'operazione di incremento `+=`. Questa operazione produce una espressione di tipo `void`."
      ]
    },
    {
      "cell_type": "markdown",
      "metadata": {
        "id": "xNastS5YivXU"
      },
      "source": [
        "# Attenzione!\n",
        "\n",
        "**Attenzione!** Cosa succede se eseguiamo più volte questo blocco di codice?"
      ]
    },
    {
      "cell_type": "code",
      "execution_count": null,
      "metadata": {
        "id": "qrurmM5SikIx",
        "colab": {
          "base_uri": "https://localhost:8080/"
        },
        "outputId": "fc021bf5-e1f8-4907-ed18-f486f28a8cf5"
      },
      "outputs": [
        {
          "output_type": "execute_result",
          "data": {
            "text/plain": [
              "1"
            ]
          },
          "metadata": {},
          "execution_count": 28
        }
      ],
      "source": [
        "x += 10\n",
        "x=1\n",
        "x"
      ]
    },
    {
      "cell_type": "markdown",
      "metadata": {
        "id": "kBefT_pAl8MP"
      },
      "source": [
        "Quello che succede nel semplice codice precedente è un esempio di **effetto collaterale**. Ovvero la valutazione di una espressione che modifica il valore di una variabile. In particolare l'espressione\n",
        "```\n",
        "x += 1\n",
        "```\n",
        "È una **espressione che modifica se stessa**."
      ]
    },
    {
      "cell_type": "code",
      "execution_count": null,
      "metadata": {
        "id": "IhY_ba7hEJ0g"
      },
      "outputs": [],
      "source": [
        "x = x + 1\n",
        "x"
      ]
    },
    {
      "cell_type": "code",
      "execution_count": null,
      "metadata": {
        "id": "EQ9xZOqFebPU",
        "colab": {
          "base_uri": "https://localhost:8080/"
        },
        "outputId": "66e26129-4554-4d4f-c9b9-9edee047e92f"
      },
      "outputs": [
        {
          "output_type": "execute_result",
          "data": {
            "text/plain": [
              "1"
            ]
          },
          "metadata": {},
          "execution_count": 30
        }
      ],
      "source": [
        "y = 0\n",
        "y += 1\n",
        "y"
      ]
    },
    {
      "cell_type": "markdown",
      "metadata": {
        "id": "M5cyPEyWEIz7"
      },
      "source": [
        "Quindi la variabile `x` può apparire sia a destra che a sinistra dell'uguale: a sinistra però si può solo avere una variabile e non una espressione.\n",
        "\n",
        ">**Attenzione!**\n",
        ">\n",
        ">Il seguente codice non è valido:\n",
        ">\n",
        ">```\n",
        ">x + 2 = x * 2\n",
        ">```\n",
        "\n",
        "\n",
        "Più in generale diciamo che è cambiato lo *stato* di un programma.\n",
        "\n",
        "Alcuni linguaggi di programmazione non consentono la presenza di costrutti che introducono cambi di stato del programma. Sono i cosiddetti linguaggi _funzionali puri_."
      ]
    },
    {
      "cell_type": "code",
      "source": [
        "x = x * 2 - 2\n",
        "x"
      ],
      "metadata": {
        "colab": {
          "base_uri": "https://localhost:8080/"
        },
        "id": "GOpiYWHMl0ye",
        "outputId": "81f1a317-c851-4f16-c10b-634b3705e03f"
      },
      "execution_count": null,
      "outputs": [
        {
          "output_type": "execute_result",
          "data": {
            "text/plain": [
              "-2"
            ]
          },
          "metadata": {},
          "execution_count": 32
        }
      ]
    },
    {
      "cell_type": "markdown",
      "metadata": {
        "id": "89lqkpPgo6cp"
      },
      "source": [
        "# Teorema di Pitagora\n",
        "\n",
        "![Teorema di Pitagora](https://upload.wikimedia.org/wikipedia/commons/thumb/d/d2/Pythagorean.svg/440px-Pythagorean.svg.png)\n",
        "\n",
        "Il famoso teorema stabilisce che se $a$ e $b$ sono le lunghezze di due cateti di un triangolo rettangolo e $c$ è la lunghezza dell'ipotenusa, sussiste la seguente relazione:\n",
        "\n",
        "$$a^2 + b^2 = c^2$$\n",
        "\n",
        "Se supponiamo che $a = 3$ e $b=4$ allora possiamo calcolare il quadrato dell'ipotenusa come:"
      ]
    },
    {
      "cell_type": "code",
      "execution_count": null,
      "metadata": {
        "id": "ukHP2qmSqyUX",
        "colab": {
          "base_uri": "https://localhost:8080/"
        },
        "outputId": "d7317976-ed6b-4ee5-a5ef-998753a18b9b"
      },
      "outputs": [
        {
          "output_type": "execute_result",
          "data": {
            "text/plain": [
              "1.04"
            ]
          },
          "metadata": {},
          "execution_count": 33
        }
      ],
      "source": [
        "# Scrivere il codice che calcola il valore di c a partire dai valori di a e b a cui assegniamo due valori.\n",
        "a = .2\n",
        "b = 1\n",
        "ipotenusa = a * a + b ** 2\n",
        "ipotenusa"
      ]
    },
    {
      "cell_type": "code",
      "source": [
        "def calcolo_ipotenusa(a, b):\n",
        "    ipotenusa = a * a + b ** 2\n",
        "    return ipotenusa\n",
        "\n",
        "calcolo_ipotenusa(.2, 1)\n",
        "\n",
        "calcolo_ipotenusa(.1, 2)"
      ],
      "metadata": {
        "colab": {
          "base_uri": "https://localhost:8080/"
        },
        "id": "vog36eNioKgO",
        "outputId": "15461440-1c1c-437f-8337-785687cea7e7"
      },
      "execution_count": null,
      "outputs": [
        {
          "output_type": "execute_result",
          "data": {
            "text/plain": [
              "4.01"
            ]
          },
          "metadata": {},
          "execution_count": 37
        }
      ]
    },
    {
      "cell_type": "markdown",
      "metadata": {
        "id": "x6xhvUImq4l2"
      },
      "source": [
        "## Funzioni\n",
        "\n",
        "Se volessimo avere un codice in grado di calcolare il valore del quadrato dell'ipotenusa per ogni coppia di cateti?\n",
        "\n",
        "Possiamo definire una **funzione**, ovvero un insieme di istruzioni a cui associamo un nome. Attraverso questo nome possiamo rieseguire le istruzioni ogni volta che vogliamo senza doverle riscrivere."
      ]
    },
    {
      "cell_type": "markdown",
      "metadata": {
        "id": "6dAoFNuyIRqg"
      },
      "source": [
        "Come si **def**inisce una funzione?"
      ]
    },
    {
      "cell_type": "code",
      "execution_count": null,
      "metadata": {
        "id": "8_4s3BlNIXe5"
      },
      "outputs": [],
      "source": [
        "def esempioFunzione():\n",
        "  a = 5 * 3\n",
        "  return a\n",
        "\n",
        "\n",
        "def esempioFunzione2():\n",
        "    a = \"Mario\"\n",
        "    b = \"Rossi\"\n",
        "    return a + ' \\' ' + b"
      ]
    },
    {
      "cell_type": "code",
      "source": [
        "esempioFunzione2()"
      ],
      "metadata": {
        "colab": {
          "base_uri": "https://localhost:8080/",
          "height": 35
        },
        "id": "0Gaf1mEisFxZ",
        "outputId": "01cca6a9-1c2e-4aa5-c137-9b955f994156"
      },
      "execution_count": null,
      "outputs": [
        {
          "output_type": "execute_result",
          "data": {
            "text/plain": [
              "\"Mario ' Rossi\""
            ],
            "application/vnd.google.colaboratory.intrinsic+json": {
              "type": "string"
            }
          },
          "metadata": {},
          "execution_count": 47
        }
      ]
    },
    {
      "cell_type": "code",
      "execution_count": null,
      "metadata": {
        "id": "V103k-rjIw7C"
      },
      "outputs": [],
      "source": [
        "esempioFunzione() **2  + 5 /3"
      ]
    },
    {
      "cell_type": "code",
      "execution_count": null,
      "metadata": {
        "id": "pFLhARDnIzvC"
      },
      "outputs": [],
      "source": [
        "x = esempioFunzione2()\n",
        "x = \"Hello \" + x\n",
        "x"
      ]
    },
    {
      "cell_type": "markdown",
      "metadata": {
        "id": "SlmJezOareGR"
      },
      "source": [
        "Per definire una funzione:\n",
        "- usiamo la keyword (ovvero una parola riservata del linguaggio Python) **def** seguita dal nome della funzione, un nome a piacere come _esempioFunzione_ o _esempioFunzione2_, e dalle parentesi\n",
        "- utilizziamo il simbolo `:` per iniziare un blocco di codice, ovvero la serie di istruzioni che vogliamo eseguire ogni qual volta richiameremo la funzione.\n",
        "\n",
        "La seguente parte della definizione della funzione prende il nome di ***signature*** della funzione stessa:\n",
        "```\n",
        "esempioFunzione()\n",
        "```\n"
      ]
    },
    {
      "cell_type": "markdown",
      "metadata": {
        "id": "ZfJAODyUKqEW"
      },
      "source": [
        "## Istruzione return\n",
        "\n",
        "Quando una funzione viene richiamata, l'interpretazione del codice **SALTA** dal punto in cui viene fatta la chiamata alla prima riga all'interno della funzione. Terminata l'interpretazione delle istruzioni contenute all'interno della funzione,\n",
        "All'interno di una funzione"
      ]
    },
    {
      "cell_type": "markdown",
      "metadata": {
        "id": "G0zL_hRqJIRk"
      },
      "source": [
        "## Blocco di codice\n",
        "\n",
        "Un blocco di codice isola le istruzioni rispetto al resto del programma. Un blocco di codice **DEVE** essere indentato rispetto all'esterno del blocco.\n",
        "\n",
        "Quando riprendiamo a scrivere ad un livello di indentazione precedente, l'interprete del linguaggio comprende che quel blocco di codice è terminato.\n",
        "\n",
        "Dopo la **signature** della funzione inseriamo `:` e dalla linea successiva indentiamo il testo di un livello con il tasto `TAB`.\n",
        "\n",
        "Potrà succedere che all'interno del blocco di codice definiamo altri blocchi di codice: ogni volta che questo succede dobbiamo ulteriormente aumentare il livello di indentazione."
      ]
    },
    {
      "cell_type": "markdown",
      "metadata": {
        "id": "tR6gjFuvJzg8"
      },
      "source": [
        "# Esercizio Pitagora.2\n",
        "\n",
        "Inserire il codice scritto per il calcolo del Teorema di Pitagora all'interno di una funzione con la signature:\n",
        "\n",
        "```\n",
        "def pitagora()\n",
        "```\n",
        "\n",
        "Successivamente richiamare la funzione in modo che Colab visualizzi il risultato."
      ]
    },
    {
      "cell_type": "code",
      "execution_count": null,
      "metadata": {
        "id": "vkAnTEzFKdNb"
      },
      "outputs": [],
      "source": [
        "#Scrivere qui il codice dell'Esercizio Pitagora.2\n",
        "def ipotenusa():\n",
        "  a = 7\n",
        "  b = 9\n",
        "  c = a ** 2 + b ** 2\n",
        "  return c\n",
        "\n",
        "ipotenusa()"
      ]
    },
    {
      "cell_type": "markdown",
      "metadata": {
        "id": "N_4bzPKSJJUB"
      },
      "source": [
        "# Funzioni\n",
        "\n",
        "Il codice che abbiamo scritto nell'esercizio precedente può essere generalizzato, in modo da non dover modificare il codice della funzione per ogni coppia di cateti.\n",
        "\n",
        "Per **generalizzare** dobbiamo indicare, all'interno delle parentesi i parametri della funzione, ovvero i dati essenziali sulle quali la funzione può effettuare le sue elaborazioni; nel caso specifico i dati essenziali sono i valori dei due cateti.\n",
        "\n",
        "Se nella **signature** della funzione sono specificati dei parametri, il loro valore dovrà essere passato nella chiamata della funzione, sempre all'interno delle parentesi."
      ]
    },
    {
      "cell_type": "code",
      "execution_count": null,
      "metadata": {
        "id": "DiXlAmt-rO-H"
      },
      "outputs": [],
      "source": [
        "def pitagora1():\n",
        "  a = 3\n",
        "  b = 4\n",
        "  a_quadrato = a ** 2\n",
        "  b_quadrato = b ** 2\n",
        "  c_quadrato = a_quadrato + b_quadrato\n",
        "  return c_quadrato\n",
        "\n",
        "pitagora1()"
      ]
    },
    {
      "cell_type": "markdown",
      "metadata": {
        "id": "KgCBpM_RONGu"
      },
      "source": [
        "Un codice più generale potrebbe essere il seguente:"
      ]
    },
    {
      "cell_type": "code",
      "execution_count": null,
      "metadata": {
        "id": "nFc6yCWVr5hT"
      },
      "outputs": [],
      "source": [
        "def pitagora(cateto1, cateto2):\n",
        "  a_quadrato = cateto1 ** 2\n",
        "  b_quadrato = cateto2 ** 2\n",
        "  c_quadrato = a_quadrato + b_quadrato\n",
        "  return c_quadrato\n",
        "\n",
        "pitagora(8,9)\n",
        "pitagora(80,90)\n",
        "pitagora(10,40)\n",
        "pitagora(10, 0)"
      ]
    },
    {
      "cell_type": "markdown",
      "metadata": {
        "id": "oxYesZCPio3H"
      },
      "source": [
        "```python\n",
        "def pitagora(a, b):     #<-- definizione della funzione che si aspetta due parametri\n",
        "  a_quadrato = a ** 2   #<-- utilizzo dei parametri nei calcoli\n",
        "  b_quadrato = b ** 2\n",
        "  c_quadrato = a_quadrato + b_quadrato\n",
        "  return c_quadrato     #<-- restituisco il valore calcolato\n",
        "\n",
        "pitagora(3,4)           #<-- chiamata della funzione passando il valore dei due parametri attesi\n",
        "```"
      ]
    },
    {
      "cell_type": "code",
      "execution_count": null,
      "metadata": {
        "id": "kJbTF4EEsFdW"
      },
      "outputs": [],
      "source": [
        "pitagora(10,20)"
      ]
    },
    {
      "cell_type": "code",
      "execution_count": null,
      "metadata": {
        "id": "jaMyp25PsKyP"
      },
      "outputs": [],
      "source": [
        "pitagora(4.1, 2.8)\n",
        "\n",
        "pitagora(\"2\", \"3\")"
      ]
    },
    {
      "cell_type": "markdown",
      "metadata": {
        "id": "s8OdmjRvjQ7V"
      },
      "source": [
        "Cosa succede se chiamiamo una funzione senza indicare il valore di tutti i parametri attesi?"
      ]
    },
    {
      "cell_type": "code",
      "execution_count": null,
      "metadata": {
        "id": "aiv1Mq9TjMvL"
      },
      "outputs": [],
      "source": [
        "pitagora(3)"
      ]
    },
    {
      "cell_type": "markdown",
      "metadata": {
        "id": "wxAu0TDpj_6T"
      },
      "source": []
    },
    {
      "cell_type": "markdown",
      "metadata": {
        "id": "rCeiS3jZs0b7"
      },
      "source": [
        "I parametri che passiamo ad una funzione posso essere numeri oppure espressioni numeriche, il cui risultato sarà passato alla funzione."
      ]
    },
    {
      "cell_type": "code",
      "execution_count": null,
      "metadata": {
        "id": "THqwBiBBsa9e"
      },
      "outputs": [],
      "source": [
        "pitagora(3 + 1.1, 1.7 ** 2 + 6/4)"
      ]
    },
    {
      "cell_type": "code",
      "execution_count": null,
      "metadata": {
        "id": "-E2le0bDtJM5"
      },
      "outputs": [],
      "source": [
        "pitagora(\"3\", \"4\")"
      ]
    },
    {
      "cell_type": "markdown",
      "metadata": {
        "id": "vOlHZrOltbKd"
      },
      "source": [
        "Questo codice dà errore perché stiamo passando alla funzione delle espressioni testuali. Queste espressioni sono poi inserite nella formula che calcola la potenza dei due parametri e qui il compilatore ci avvisa che l'operatore di potenza `**` non è definito per le stringhe di testo.\n"
      ]
    },
    {
      "cell_type": "code",
      "execution_count": null,
      "metadata": {
        "id": "f5jSYs84vU2T"
      },
      "outputs": [],
      "source": [
        "pitagora"
      ]
    },
    {
      "cell_type": "markdown",
      "metadata": {
        "id": "M3-Vd945vXN7"
      },
      "source": [
        "Se scriviamo solo `pitagora`, senza specificare nessun parametro, stiamo scrivendo una espressione di tipo **funzione**. Come tutte le espressioni, anche questa può essere assegnata ad una variabile:"
      ]
    },
    {
      "cell_type": "code",
      "execution_count": null,
      "metadata": {
        "id": "hUklKRUvvpNv"
      },
      "outputs": [],
      "source": [
        "y = pitagora\n",
        "y(3,4)"
      ]
    },
    {
      "cell_type": "markdown",
      "metadata": {
        "id": "X3St37XCvxYQ"
      },
      "source": [
        "Il motivo per cui un linguaggio di programmazione consente queste possibilità sarà chiaro più avanti."
      ]
    },
    {
      "cell_type": "markdown",
      "metadata": {
        "id": "9vg0dFKyP_6A"
      },
      "source": [
        "# Chiamate di funzioni\n",
        "\n",
        "Una funzione può richiamare altre funzioni:"
      ]
    },
    {
      "cell_type": "code",
      "execution_count": null,
      "metadata": {
        "id": "893a4NgVQGsY"
      },
      "outputs": [],
      "source": [
        "def getNome():\n",
        "  return \"Mario\"\n",
        "\n",
        "def getCognome():\n",
        "  return \"Rossi\"\n",
        "\n",
        "def getFullName():\n",
        "  return getNome() + \" \" + getCognome()\n",
        "\n",
        "getFullName()\n",
        "\n",
        "def saluti(nome):\n",
        "  saluto = \"uhe \" + nome\n",
        "  return saluto\n",
        "\n"
      ]
    },
    {
      "cell_type": "markdown",
      "metadata": {
        "id": "bI98G86F8mz3"
      },
      "source": [
        "# Esercizio Funzioni.1\n",
        "\n",
        "Creare una funzione che calcola l'area di un quadrato. La funzione accetta come parametro il valore della lunghezza del lato e restituisce l'area. Scrivere quindi uno o più esempi di chiamata a tale funzione.\n",
        "\n",
        "# Esercizio Funzioni.2\n",
        "\n",
        "Creare una funzione che calcola l'area di un settore ottenuto da un quadrato di lato $a$ a cui sottraiamo l'area di un quadrato di lato $b < a$. La funzione accetta due parametri $a$ e $b$ e utilizza la funzione sviluppata al punto precedente. Scrivere quindi uno o più esempi di chiamata a tale funzione."
      ]
    },
    {
      "cell_type": "code",
      "execution_count": null,
      "metadata": {
        "cellView": "form",
        "id": "nYzHrKb5TYnL",
        "outputId": "cf11df7e-8e23-452f-ab63-61e3bc22fb53",
        "colab": {
          "base_uri": "https://localhost:8080/",
          "height": 129
        }
      },
      "outputs": [
        {
          "output_type": "execute_result",
          "data": {
            "text/plain": [
              "<POLYGON ((0 0, 100 0, 100 100, 0 100, 0 0), (30 30, 70 30, 70 70, 30 70, 30...>"
            ],
            "image/svg+xml": "<svg xmlns=\"http://www.w3.org/2000/svg\" xmlns:xlink=\"http://www.w3.org/1999/xlink\" width=\"108.0\" height=\"108.0\" viewBox=\"-4.0 -4.0 108.0 108.0\" preserveAspectRatio=\"xMinYMin meet\"><g transform=\"matrix(1,0,0,-1,0,100.0)\"><path fill-rule=\"evenodd\" fill=\"#66cc99\" stroke=\"#555555\" stroke-width=\"2.0\" opacity=\"0.6\" d=\"M 0.0,0.0 L 100.0,0.0 L 100.0,100.0 L 0.0,100.0 L 0.0,0.0 z M 30.0,30.0 L 70.0,30.0 L 70.0,70.0 L 30.0,70.0 L 30.0,30.0 z\" /></g></svg>"
          },
          "metadata": {},
          "execution_count": 9
        }
      ],
      "source": [
        "#@title Esempio di settore\n",
        "from shapely import from_wkt\n",
        "from_wkt(\"POLYGON((0 0, 100 0, 100 100, 0 100, 0 0), (30 30, 70 30, 70 70, 30 70, 30 30))\")"
      ]
    },
    {
      "cell_type": "markdown",
      "metadata": {
        "id": "UZRKA_V4PWNM"
      },
      "source": [
        "# Esercizio Funzioni.3\n",
        "\n",
        "Creare una versione **più generale** della funzione che calcola l'area del quadrato in modo che possa calcolare anche l'area di un rettangolo. Scrivere gli esempi di chiamata e verificare che la funzione dell'esercizio Funzioni.2 continua a funzionare anche con questa versione."
      ]
    },
    {
      "cell_type": "code",
      "execution_count": null,
      "metadata": {
        "id": "j_lVBMz294jk"
      },
      "outputs": [],
      "source": [
        "# scrivere qui il codice per l'esercizio Funzioni.1\n",
        "\n"
      ]
    },
    {
      "cell_type": "code",
      "execution_count": null,
      "metadata": {
        "id": "kvqbGJlI9_Db"
      },
      "outputs": [],
      "source": [
        "# scrivere qui il codice per l'esercizio Funzioni.2\n",
        "\n"
      ]
    },
    {
      "cell_type": "code",
      "execution_count": null,
      "metadata": {
        "id": "Yp7FUPeoCr3z"
      },
      "outputs": [],
      "source": [
        "# scrivere qui il codice per l'esercizio Funzioni.3\n",
        "\n"
      ]
    }
  ],
  "metadata": {
    "colab": {
      "provenance": []
    },
    "kernelspec": {
      "display_name": ".venv",
      "language": "python",
      "name": "python3"
    },
    "language_info": {
      "codemirror_mode": {
        "name": "ipython",
        "version": 3
      },
      "file_extension": ".py",
      "mimetype": "text/x-python",
      "name": "python",
      "nbconvert_exporter": "python",
      "pygments_lexer": "ipython3",
      "version": "3.12.3"
    }
  },
  "nbformat": 4,
  "nbformat_minor": 0
}