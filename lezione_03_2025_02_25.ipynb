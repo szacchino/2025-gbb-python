{
  "nbformat": 4,
  "nbformat_minor": 0,
  "metadata": {
    "colab": {
      "provenance": [],
      "collapsed_sections": [
        "p3sQSTJ5XwIW"
      ],
      "toc_visible": true
    },
    "kernelspec": {
      "name": "python3",
      "display_name": "Python 3"
    },
    "language_info": {
      "name": "python"
    }
  },
  "cells": [
    {
      "cell_type": "markdown",
      "metadata": {
        "id": "Qo8iYQ_YyWAD"
      },
      "source": [
        "<img src=\"https://raw.githubusercontent.com/szacchino/futuro/refs/heads/main/immagini/Banzi-Python.jpg\">\n",
        "<center><strong><a href=\"mailto://sandro.zacchino@unisalento.it\" width=\"100%\">Ing. Sandro Zacchino</a></strong></center>\n"
      ]
    },
    {
      "cell_type": "markdown",
      "metadata": {
        "id": "pLw2PGvWyWAJ"
      },
      "source": [
        "# Lezione 3 – 25/02/2025\n",
        "\n",
        "# LINK ALLA LEZIONE https://bit.ly/3EUDe9U\n",
        "\n",
        "[Lezione 1](https://colab.research.google.com/drive/1T47TvVAsi6vsTSCJqSI9uyQIgFIxXpsG) [Lezione 2](https://colab.research.google.com/drive/1cvbjWngj49nL40tCtsWlvOzHNECRm3me) Lezione 3"
      ]
    },
    {
      "cell_type": "markdown",
      "source": [
        "## Operazioni sulle stringhe\n",
        "\n",
        "Le stringhe di testo possono essere manipolate, ad esempio per estrarne una porzione.\n",
        "\n",
        "Definiamo una stringa `nome = \"ADA LOVELACE\"`.\n",
        "\n",
        "Allo scopo occorre ricordare che ad ogni carattere di una stringa corrisponde un indice:\n",
        "\n",
        "|A|D|A|&nbsp;|L|O|V|E|L|A|C|E|\n",
        "|-|-|-|-|-|-|-|-|-|-|-|-|\n",
        "|0|1|2|3|4|5|6|7|8|9|10|11|\n",
        "\n",
        "### L'operatore [ ]\n",
        "\n",
        "Attraverso l'operatore `[]` associato ad una espressione testuale possiamo estrarre porzioni di stringa (_slicing_).\n",
        "Tra le parentesi quadre possiamo inserire:\n",
        "- indice del carattere da estrarre: in questo modo verrà restituito un solo carattere; esempio `nome[4]` estrae la lettera `L`, iniziale del cognome.\n",
        "- `a:b`, per estrarre dall'indice `a` fino all'indice `b` (escluso `b`); esempio `nome[0:3]` estrae `ADA`.\n",
        "- `a:`, per estrarre dall'indice `a` fino alla fine, `nome[4]` restituisce `LOVELACE`;\n",
        "\n",
        "Ad esempio:"
      ],
      "metadata": {
        "id": "hMvVeh8P_7fU"
      }
    },
    {
      "cell_type": "code",
      "source": [
        "nome_completo = \"ADA LOVELACE\"\n",
        "print(nome_completo[4])\n"
      ],
      "metadata": {
        "id": "X9QEjWRAAHgr"
      },
      "execution_count": null,
      "outputs": []
    },
    {
      "cell_type": "code",
      "source": [
        "nome_completo = \"ADA LOVELACE\"\n",
        "\n",
        "nome = nome_completo[0:3]\n",
        "cognome = nome_completo[4:]\n",
        "print(nome)\n"
      ],
      "metadata": {
        "id": "k41L06Ef3tC9"
      },
      "execution_count": null,
      "outputs": []
    },
    {
      "cell_type": "code",
      "source": [
        "nome_completo = \"ADA LOVELACE\"\n",
        "\n",
        "cognome = nome_completo[-8:]\n",
        "print(cognome)\n"
      ],
      "metadata": {
        "id": "UIWp13co3ttq"
      },
      "execution_count": null,
      "outputs": []
    },
    {
      "cell_type": "code",
      "source": [
        "nome_completo = \"ADA LOVELACE\"\n",
        "print(nome_completo[-12])\n",
        "print(nome_completo[-24:])"
      ],
      "metadata": {
        "id": "EUgUMuXE30sX"
      },
      "execution_count": null,
      "outputs": []
    },
    {
      "cell_type": "markdown",
      "source": [
        "Quindi per usare gli indici negativi dobbiamo pensare che:\n",
        "\n",
        "\n",
        "|A|D|A|&nbsp;|L|O|V|E|L|A|C|E|\n",
        "|-|-|-|-|-|-|-|-|-|-|-|-|\n",
        "|-12|-11|-10|-9|-8|-7|-6|-5|-4|-3|-2|-1|\n",
        "\n",
        "L'indice negativo non altera il modo in cui si utilizza. È solo un modo diverso di riferirsi alle celle."
      ],
      "metadata": {
        "id": "cRMStX9tBU2W"
      }
    },
    {
      "cell_type": "markdown",
      "source": [
        "## Interpolazione di stringhe\n",
        "\n",
        "È possibile creare una stringa che contiene dei segnaposti opportuni: Python sostituirà a questi segnaposti un opportuno valore. Per utilizzare questa funzionalità premettiamo la `f`all'espressione testuale."
      ],
      "metadata": {
        "id": "VCCjswfCIVah"
      }
    },
    {
      "cell_type": "code",
      "source": [
        "nome = \"Lisa\"\n",
        "print(\"Ciao {nome}\")\n",
        "\n",
        "print(f\"Ciao {nome}\")\n",
        "x = 10\n",
        "y = 20\n",
        "print(f\"Le coordinate del punto di intersezione sono ({x}, {y})\")"
      ],
      "metadata": {
        "id": "Pojn_Z4wIM1I"
      },
      "execution_count": null,
      "outputs": []
    },
    {
      "cell_type": "markdown",
      "source": [
        "### Approfondimenti\n",
        "\n"
      ],
      "metadata": {
        "id": "p3sQSTJ5XwIW"
      }
    },
    {
      "cell_type": "markdown",
      "source": [
        "Potremmo aver bisogno di visualizzare un testo allineato in un certo modo, ad esempio per visualizzare una tabella. In questo caso, all'interno delle `{}` possiamo inserire una formattazione. Ad esempio:\n",
        "\n",
        "- `{a:-^16}` crea una stringa di 16 caratteri `-` ed al centro allinea il valore della variabile `a`;\n",
        "- `{a:07.2f}` crea una stringa di 7 caratteri, di cui 2 decimali e 1 punto, e riempie gli spazi vuoti con `0`;\n",
        "- `{a:7.1f}` crea una stringa di 7 caratteri, di cui 1 decimale e 1 punto;\n",
        "- `{f'{a:5.2f}':^16}` è una specifica composta che allinea al centro di 16 spazi un numero di 5 caratteri, di cui 2 decimali ed 1 punto;\n",
        "\n",
        "Questi codici sono chiamati **f-strings** (_stringhe di formattazione_). Tutti gli esempi di f-strings si possono ritrovare sul sito [fstrings.help](https://fstring.help/)."
      ],
      "metadata": {
        "id": "0raN91Cp5HRg"
      }
    },
    {
      "cell_type": "code",
      "source": [
        "\n",
        "a = 77.86738\n",
        "b = 877.45623\n",
        "c = 6.022\n",
        "\n",
        "spazi_intest = 16\n",
        "num_pad_zero = \"06\"\n",
        "\n",
        "print(\"| Intestazione 1 | Intestazione 2 |   Num.| Altro |\")\n",
        "print(\"|----------------|----------------|-------|-------|\")\n",
        "print(f\"|{a:-^16}|{f'{a:5.2f}':^16}|{a:07.2f}|{b:7.1f}|\")\n",
        "print(f\"|{c:-^{spazi_intest}}|{f'{c:{num_pad_zero}.2f}':^{spazi_intest}}|{c:07.2f}|{a:7.1f}|\")\n"
      ],
      "metadata": {
        "id": "dba4dMISUcDn"
      },
      "execution_count": null,
      "outputs": []
    },
    {
      "cell_type": "markdown",
      "source": [
        "## Espressioni Booleane\n",
        "\n",
        "Prendono il nome dal matematico George Boole che le concepì nei suoi studi sulla logica.\n",
        "\n",
        "Sono espressioni il cui valore può essere solo `True` oppure `False`.\n",
        "\n",
        "Quindi la seguente espressione:"
      ],
      "metadata": {
        "id": "1jQuGPwdrsHY"
      }
    },
    {
      "cell_type": "code",
      "source": [
        "True"
      ],
      "metadata": {
        "id": "bAzbaB0xsJgv"
      },
      "execution_count": null,
      "outputs": []
    },
    {
      "cell_type": "markdown",
      "source": [
        "è una espressione booleana il cui valore è `True`."
      ],
      "metadata": {
        "id": "OXyvBv2UsLe7"
      }
    },
    {
      "cell_type": "code",
      "source": [
        "print(False)"
      ],
      "metadata": {
        "id": "NH9YAtHQsVY9"
      },
      "execution_count": null,
      "outputs": []
    },
    {
      "cell_type": "markdown",
      "source": [
        "Così come esistono gli operatori per le espressioni aritmetiche, esistono anche gli operatori per le espressioni **booleane**:\n",
        "- `not x`, restituisce `True` se `x` è `False`;\n",
        "- `x and y`, restituisce `True` se `x` e `y` valgono `True`;\n",
        "- `x or y`, restituisce `True` se almeno una tra `x` e `y` vale `True`;\n",
        "- `x != y`, restituisce `True` se `x` e `y` sono diversi;\n",
        "\n",
        "Possiamo ottenere espressioni booleane a partire da altre espressioni.\n",
        "\n",
        "Ad esempio, per le espressioni **matematiche e testuali**, utilizzando gli operatori relazionali, otteniamo:\n",
        "\n",
        "- `x > y`, `True` se `x` è maggiore di `y`;\n",
        "- `x >= y`, `True` se `x` è maggiore o al limite uguale ad `y`;\n",
        "- `x < y`, `True` se `x` è minore di `y`;\n",
        "- `x <= y`, `True` se `x` è minore o al limite uguale ad `y`;\n",
        "- `x == y`, `True` se `x` è uguale ad `y`;\n",
        "- `x != y`, `True` se `x` è diverso da `y`;\n",
        "\n",
        "Gli operatori relazionali possono essere messi in sequenza in questi modi equivalenti:\n",
        "\n",
        "- `10 < x and x < 20`, `True` se `x` è maggiore di `10` ma minore di `20`;\n",
        "- `10 < x < 20`, analogo al punto precedente;\n",
        "\n",
        "In questo caso\n",
        "- `10 < x` è una espressione booleana\n",
        "- `x < 20` è una espressione booleana\n",
        "- `and` è un operatore tra espressioni booleane\n"
      ],
      "metadata": {
        "id": "z26VCLZdsaFg"
      }
    },
    {
      "cell_type": "markdown",
      "source": [
        "## Operatori relazionali per le stringhe\n",
        "\n",
        "* 'ae' == 'aei', True se le stringhe sono uguali\n",
        "* 'ae' != 'aei', True se le stringhe sono sono diverse\n",
        "* 'ae' in 'aei', True se la stringa di sinistra presente in quella di destra"
      ],
      "metadata": {
        "id": "WsIdEXRl5Y9S"
      }
    },
    {
      "cell_type": "code",
      "source": [
        "print('io' in 'aeiou')\n",
        "print('eo' in 'aeiou')"
      ],
      "metadata": {
        "id": "kZj4b38k6QEx"
      },
      "execution_count": null,
      "outputs": []
    },
    {
      "cell_type": "markdown",
      "source": [
        "## Le funzioni `input()`, `int()`, `float()` e `str()`\n",
        "\n",
        "Per testare gli operatori di relazione utilizziamo la funzione `input()` a cui passiamo una espressione testuale per chiedere una domanda all'utente. L'utente potrà inserire un testo che poi potremo utilizzare nel resto del programma.\n",
        "\n",
        "Ad esempio:\n",
        "\n",
        "```python\n",
        "nome = input(\"Inserisci il tuo nome: \")\n",
        "print(nome)\n",
        "```"
      ],
      "metadata": {
        "id": "OC5kiQ2K8Qd8"
      }
    },
    {
      "cell_type": "code",
      "source": [
        "eta = input(\"Inserisci la tua età: \")\n",
        "print(\"Hai inserito\", eta * 2)"
      ],
      "metadata": {
        "id": "RNar0SVLoKaT"
      },
      "execution_count": null,
      "outputs": []
    },
    {
      "cell_type": "code",
      "source": [
        "eta = input(\"Inserisci la tua età: \")\n",
        "eta = int(eta)\n",
        "print(\"Hai inserito\", eta * 2)"
      ],
      "metadata": {
        "id": "TSAGb2l9815k"
      },
      "execution_count": null,
      "outputs": []
    },
    {
      "cell_type": "markdown",
      "source": [
        "`input()` restituisce sempre una espressione testuale o _stringa_. Se abbiamo bisogno di chiedere un numero, dovremo convertire la stringa in un numero. Per fare questo utilizziamo la funzione `int()`, a cui passeremo una espressione testuale che rappresenta un numero intero, ad esempio:\n",
        "\n",
        "```python\n",
        "giorniAnno = int(\"365\")\n",
        "```\n",
        "\n",
        "dove `\"365\"` è appunto una espressione testuale corrispondente ad un numero intero. Se l'espressione testuale non rappresenta un numero intero la funzione `int()` restituisce un errore. Per i numeri con la virgola possiamo, analogamente utilizzare la funzione `float()`."
      ],
      "metadata": {
        "id": "hq9wZRfe9BVY"
      }
    },
    {
      "cell_type": "code",
      "source": [
        "float(\"44.5\")"
      ],
      "metadata": {
        "id": "UfjYpUpE_CRk"
      },
      "execution_count": null,
      "outputs": []
    },
    {
      "cell_type": "markdown",
      "source": [
        "Analogamente possiamo convertire un numero in stringa con"
      ],
      "metadata": {
        "id": "jTia7ulrXBL0"
      }
    },
    {
      "cell_type": "code",
      "source": [
        "print(str(12))\n",
        "str(78.987)"
      ],
      "metadata": {
        "id": "5_oBy_kpXcAO"
      },
      "execution_count": null,
      "outputs": []
    },
    {
      "cell_type": "code",
      "source": [
        "# usando la conversione mediante la funzione int()\n",
        "\n",
        "eta = input(\"Inserisci la tua età: \")\n",
        "giorni = int(eta) * 365\n",
        "print (f\"La tua età corrisponde ad almeno {giorni} giorni\")\n"
      ],
      "metadata": {
        "id": "5tLAA5Q6_CiP"
      },
      "execution_count": null,
      "outputs": []
    },
    {
      "cell_type": "code",
      "source": [
        "# usando la conversione mediante la funzione float()\n",
        "\n",
        "eta = input(\"Inserisci la tua età: \")\n",
        "giorni = float(eta) * 365\n",
        "print (\"La tua età corrisponde ad almeno\", giorni, \"giorni\")\n"
      ],
      "metadata": {
        "id": "hFcr5Xqz9h6F"
      },
      "execution_count": null,
      "outputs": []
    },
    {
      "cell_type": "markdown",
      "source": [
        "## L'istruzione IF\n",
        "\n",
        "Le espressioni booleane sono utili se utilizzate con l'istruzione `if`. Questa istruzione valuta una espressione booleana e, nel caso in cui il suo valore restituisca `True` esegue il blocco di codice."
      ],
      "metadata": {
        "id": "SAZHv7HAZjw2"
      }
    },
    {
      "cell_type": "code",
      "source": [
        "eta = input(\"Inserisci la tua età: \")\n",
        "eta = int(eta)\n",
        "giorni = eta * 365\n",
        "print (\"La tua età corrisponde ad almeno\", giorni, \"giorni.\")\n",
        "\n",
        "if 45 < eta < 50:\n",
        "  print(\"Sei nel mezzo del cammin della tua vita\")"
      ],
      "metadata": {
        "id": "CXxy0nJEaE3p"
      },
      "execution_count": null,
      "outputs": []
    },
    {
      "cell_type": "markdown",
      "source": [
        "## Esercizio If.1\n",
        "\n",
        "Scrivere un codice che accetta il seguente input dall'utente:\n",
        "\n",
        "```\n",
        "Inserire un numero intero strettamente maggiore di 1 e minore o uguale a 100\n",
        "```\n",
        "\n",
        "Dopo l'inserimento il codice converte l'input in numero, verifica che sia un numero intero compreso nell'intervallo indicato e, in caso affermativo calcola il resto della divisione per 2 (operatore `%`) per controllare se il numero è pari o dispari.\n",
        "\n",
        "Il codice, se il numero è dispari, calcola il numero intermedio tra 1 ed il numero inserito e lo visualizza."
      ],
      "metadata": {
        "id": "DiQx_ltdgEj-"
      }
    },
    {
      "cell_type": "code",
      "source": [
        "# Scrivere qui il codice dell'esercizio If.1\n"
      ],
      "metadata": {
        "id": "uFrRhb9iiZRo"
      },
      "execution_count": null,
      "outputs": []
    },
    {
      "cell_type": "markdown",
      "source": [
        "### L'istruzione ELSE\n",
        "\n",
        "Se stiamo utilizzando una istruzione `if`, possiamo prevedere un differente blocco di codice da eseguire nel caso in cui l'espressione boolean abbia un valore `False`:"
      ],
      "metadata": {
        "id": "tnHxgeEEavKu"
      }
    },
    {
      "cell_type": "code",
      "source": [
        "operazione = input(\"Inserisci M (moltiplicazione) o A (addizione): \")\n",
        "operando1 = input(\"Inserisci il primo operando: \")\n",
        "operando2 = input(\"Inserisci il secondo operando: \")\n",
        "\n",
        "operando1 = float(operando1)\n",
        "operando2 = float(operando2)\n",
        "\n",
        "if (operazione == 'M'):\n",
        "  print(\"Prodotto:\", operando1 * operando2)\n",
        "else:\n",
        "  print(\"Somma:\", operando1 + operando2)"
      ],
      "metadata": {
        "id": "4QP7VuUfbGiZ"
      },
      "execution_count": null,
      "outputs": []
    },
    {
      "cell_type": "markdown",
      "source": [
        "### L'istruzione ELIF\n",
        "È possibile anche valutare più condizioni in una stessa istruzione `if` con l'istruzione `elif` seguita da una espressione booleana e dal rispettivo blocco di codice:"
      ],
      "metadata": {
        "id": "OzV2ld3zbzJk"
      }
    },
    {
      "cell_type": "code",
      "source": [
        "operazione = input(\" - M (moltiplicazione)\\n - A (addizione)\\n - S (sottrazione)\\nScegli l'operazione: \")\n",
        "operando1 = input(\"Inserisci il primo operando: \")\n",
        "operando2 = input(\"Inserisci il secondo operando: \")\n",
        "\n",
        "\n",
        "if (operazione == 'M'):\n",
        "  print(\"Prodotto:\")\n",
        "elif (operazione == 'A'):\n",
        "  print(\"Somma:\")\n",
        "elif operazione == 'S':\n",
        "    print(\"Differenza:\")\n",
        "else:\n",
        "  print(\"Operazione non consentita\")"
      ],
      "metadata": {
        "id": "vsYsiyrxcK7v",
        "outputId": "93ee2b92-8a34-4591-f7d4-2556d3f6a644",
        "colab": {
          "base_uri": "https://localhost:8080/"
        }
      },
      "execution_count": null,
      "outputs": [
        {
          "output_type": "stream",
          "name": "stdout",
          "text": [
            " - M (moltiplicazione)\n",
            " - A (addizione)\n",
            " - S (sottrazione)\n",
            "Scegli l'operazione: S\n",
            "Inserisci il primo operando: 10\n",
            "Inserisci il secondo operando: 20\n",
            "Differenza:\n"
          ]
        }
      ]
    },
    {
      "cell_type": "markdown",
      "source": [
        "### Esercizio If.2\n",
        "\n",
        "Modificare il codice della cella in modo che gli operandi siano richiesti **SOLO** se l'utente ha scelto una operazione consentita; in caso contrario viene stampato direttamente il messaggio *Operazione non consentita*.\n",
        "\n",
        "Se invece il controllo viene superato, il codice deve convertire gli operandi inseriti in numero e calcolare il valore dell'operazione scelta, stampandolo.\n",
        "\n",
        "In caso di sottrazione va effettuato il controllo che l'operando 1 deve essere maggiore o uguale dell'operando 2."
      ],
      "metadata": {
        "id": "7VLTdOOui7-q"
      }
    },
    {
      "cell_type": "code",
      "source": [
        "#Scrivere qui il codice dell'esercizio If.2\n",
        "\n",
        "operazione = input(\" - M (moltiplicazione)\\n - A (addizione)\\n - S (sottrazione)\\nScegli l'operazione: \")\n",
        "operando1 = input(\"Inserisci il primo operando: \")\n",
        "operando2 = input(\"Inserisci il secondo operando: \")\n",
        "\n",
        "# scrivere il codice che effettua la conversione in numero\n",
        "\n",
        "if (operazione == 'M'):\n",
        "  # scrivere il codice che effettua il prodotto tra due numeri e lo stampa\n",
        "\n",
        "elif (operazione == 'A'):\n",
        "  # scrivere il codice che effettua l'addizione tra due numeri e lo stampa\n",
        "\n",
        "elif operazione == 'S':\n",
        "  # scrivere il codice che effettua la sottrazione tra due numeri e lo stampa\n",
        "  # dopo aver controllato che l'operando 1 sia maggiore o uguale dell'operando 2\n",
        "\n",
        "else:\n",
        "  print(\"Operazione non consentita\")"
      ],
      "metadata": {
        "id": "RwmaV0KGj4OJ"
      },
      "execution_count": null,
      "outputs": []
    },
    {
      "cell_type": "markdown",
      "source": [
        "## Range\n",
        "\n",
        "`range` è un tipo di dato che consente di definire degli intervalli, ad esempio:\n",
        "- _tutti i numeri da 0 a 4_ $\\Rightarrow$ `range(5)`\n",
        "- _tutti i numeri da 2 a 4_ $\\Rightarrow$ `range(2, 5)`\n",
        "- _tutti i numeri **dispari** da 11 a 20_ $\\Rightarrow$ `range(11, 20, 2)`"
      ],
      "metadata": {
        "id": "_8qIDDurEGwm"
      }
    },
    {
      "cell_type": "markdown",
      "source": [
        "## Loop\n",
        "\n",
        "Quando abbiamo la necessità di far ripetere ad un codice le stesse operazioni per un certo numero di volte possiamo utilizzare le istruzioni di **loop**.\n",
        "\n",
        "### Loop usando l'istruzione `for` e `range`\n",
        "\n",
        "Dichiariamo un loop utilizzando il seguente codice:\n",
        "\n",
        "```python\n",
        "for i in range(5):\n",
        "  print(i)\n",
        "```\n",
        "\n",
        "Con questo codice ripetiamo il blocco di codice che appare sotto all'istruzione `for` un numero di volte pari al `range(5)`. In realtà stiamo facendo anche di più. L'istruzione esegue il blocco di codice e ad ogni esecuzione assegna alla variabile $i$ un valore preso dal `range(5)` che, come abbiamo detto, _rappresenta tutti i numeri da 0 a 4_. Quindi il codice si potrebbe leggere come:\n",
        "\n",
        "_per ogni i che varia da 0 a 4 stampa il valore di i_\n",
        "\n"
      ],
      "metadata": {
        "id": "V90ctl86FW2B"
      }
    },
    {
      "cell_type": "code",
      "source": [
        "for i in range(5):\n",
        "  print(i)"
      ],
      "metadata": {
        "id": "XGnV3eFXEKMw"
      },
      "execution_count": null,
      "outputs": []
    },
    {
      "cell_type": "code",
      "source": [
        "for i in range(5):\n",
        "  print(\"Eseguo l'iterazione \", i)\n",
        "print(\"Loop terminato\")"
      ],
      "metadata": {
        "id": "2a5ghNZwsaIq"
      },
      "execution_count": null,
      "outputs": []
    },
    {
      "cell_type": "markdown",
      "source": [
        "### Esercizio For.1\n",
        "\n",
        "Scrivere un codice che chiede all'utente di inserire un numero da 6 a 100. Dopo l'eventuale validazione/conversione dell'input, il codice esegue un loop da 0 al numero inserito: ad ogni iterazione, stampa il risultato del resto della divisione del numero per 5 (operatore `%`).\n",
        "\n",
        "Stampare i messaggi di input non corretto negli altri casi."
      ],
      "metadata": {
        "id": "AB1iMvrqlCfh"
      }
    },
    {
      "cell_type": "code",
      "source": [
        "#Scrivere qui il codice dell'esercizio For.1\n"
      ],
      "metadata": {
        "id": "gOxYDiPEl0_b"
      },
      "execution_count": null,
      "outputs": []
    },
    {
      "cell_type": "markdown",
      "source": [
        "## Funzione `len`\n",
        "\n",
        "Posso determinare quanti caratteri ci sono in una stringa con la funzione `len()` a cui passo l'espressione testuale.\n",
        "\n",
        "```python\n",
        "nome_completo = \"Mario Rossi\"\n",
        "print(len(nome_completo))\n",
        "```\n",
        "\n",
        ">**Attenzione!** `len(nome_completo)` è una espressione numerica, quindi può essere utilizzata ovunque serva una espressione numerica, ad esempio come parametro quando richiamiamo la funzione `range()`."
      ],
      "metadata": {
        "id": "AQQXl7-Qs-uL"
      }
    },
    {
      "cell_type": "code",
      "source": [
        "nome_completo = \"Mario Rossi\"\n",
        "print(len(nome_completo))"
      ],
      "metadata": {
        "id": "Y6DZ-hVatXI9"
      },
      "execution_count": null,
      "outputs": []
    },
    {
      "cell_type": "code",
      "source": [
        "nome_completo = \"Mario Rossi\"\n",
        "for i in range(len(nome_completo)):\n",
        "  print(nome_completo[i], end ='')"
      ],
      "metadata": {
        "id": "Co3Y4nlAtZtN"
      },
      "execution_count": null,
      "outputs": []
    },
    {
      "cell_type": "code",
      "source": [
        "def eco_in_montagna(nome):\n",
        "  meta = len(nome) // 2\n",
        "  for i in range(meta):\n",
        "    print(nome[meta+i+1:])\n",
        "\n",
        "eco_in_montagna(\"Mario Rossi\")"
      ],
      "metadata": {
        "id": "ojFJ6crluI8d"
      },
      "execution_count": null,
      "outputs": []
    },
    {
      "cell_type": "markdown",
      "source": [
        "### Esercizio For.2\n",
        "\n",
        "Scrivere un codice che chiede all'utente di inserire una stringa qualsiasi (ad esempio il nome). Utilizzando un loop ed una sola istruzione di `print()` il codice deve stampare la stringa al contrario."
      ],
      "metadata": {
        "id": "xnQ5vuv7mz1i"
      }
    },
    {
      "cell_type": "code",
      "source": [
        "#Scrivere qui il codice dell'esercizio For.2\n"
      ],
      "metadata": {
        "id": "hBQYySbMmz1l"
      },
      "execution_count": null,
      "outputs": []
    },
    {
      "cell_type": "markdown",
      "source": [
        "## Interruzione di un loop\n",
        "\n",
        "Durante un loop può verificarsi una condizione per cui occorre interromperlo."
      ],
      "metadata": {
        "id": "TnhBU0SlEbdl"
      }
    },
    {
      "cell_type": "code",
      "source": [
        "x = 1\n",
        "for i in range(10):\n",
        "  x += x * i\n",
        "  if x > 30:\n",
        "    print(\"Esco all'iterazione\", i, \"x ha valore\", x)\n",
        "    break\n",
        "  print (\"Eseguo l'iterazione numero\", i, \"x ha valore\", x)\n",
        "\n",
        "print(\"Loop Terminato\")"
      ],
      "metadata": {
        "id": "jymznWRQEoj8"
      },
      "execution_count": null,
      "outputs": []
    },
    {
      "cell_type": "markdown",
      "source": [
        "## Istruzione WHILE\n",
        "\n",
        "While è una istruzione che consente di eseguire il codice del loop fintanto è vera una condizione definita nell'istruzione:"
      ],
      "metadata": {
        "id": "gbC4DWLGHEhf"
      }
    },
    {
      "cell_type": "code",
      "source": [
        "x = 10\n",
        "while x<100:\n",
        "  x += 10\n",
        "  print (\"il valore di x è\", x)\n",
        "\n",
        "print(\"Loop terminato\")"
      ],
      "metadata": {
        "id": "9IGeBHb_HYgG"
      },
      "execution_count": null,
      "outputs": []
    },
    {
      "cell_type": "markdown",
      "source": [
        "### Esercizio While.1\n",
        "\n",
        "Modificare il codice con il menu delle operazioni visto prima in modo che:\n",
        "- al termine di ogni operazione si ripresenti il menu per una nuova operazione\n",
        "- vengano chiesti gli operandi solo se l'utente ha scelto una operazione\n",
        "- il menu presenti una opzione per uscire dal programma\n"
      ],
      "metadata": {
        "id": "Of1yCod3_Pf-"
      }
    },
    {
      "cell_type": "code",
      "source": [
        "# scrivere qui il codice dell'esercizio While.1\n"
      ],
      "metadata": {
        "id": "F79uJS6C_Snd"
      },
      "execution_count": null,
      "outputs": []
    },
    {
      "cell_type": "markdown",
      "source": [
        "### Esercizio Loop.1\n",
        "\n",
        "Scrivere il codice di un loop che, data una stringa, conti il numero di vocali."
      ],
      "metadata": {
        "id": "vu4DluG-4rs5"
      }
    },
    {
      "cell_type": "markdown",
      "source": [
        "### Esercizio Loop.2\n",
        "\n",
        "Creare il codice di un loop che, data una stringa qualsiasi, ad ogni iterazione $i$ stampi tutte le sottostringhe ottenuta da quella originale a cui si eliminano $i$ caratteri dall'inizio e $i$ caratteri dalla fine. Esempio:\n",
        "\n",
        "Stringa originale: 'Concerto'\n",
        "* iterazione 0: `'Concerto'`\n",
        "* iterazione 1: `'oncert'`\n",
        "* iterazione 2: `'ncer'`\n",
        "* iterazione 3: `'ce'`\n",
        "\n",
        "**Suggerimento**\n",
        "\n",
        "Calcolare opportunamente il numero di iterazioni da eseguire."
      ],
      "metadata": {
        "id": "Me_MmGdI1A6W"
      }
    },
    {
      "cell_type": "code",
      "source": [
        "# scrivere qui il codice dell'esercizio Loop.2\n"
      ],
      "metadata": {
        "id": "rbeXbfbv4bwB"
      },
      "execution_count": null,
      "outputs": []
    },
    {
      "cell_type": "markdown",
      "source": [
        "## La funzione `type`\n",
        "\n",
        "`type()` consente di visualizzare il tipo di una espressione.\n"
      ],
      "metadata": {
        "id": "5x3TYx_yBn6D"
      }
    },
    {
      "cell_type": "code",
      "source": [
        "def esempioFunzione2(x):\n",
        "  return x * 2\n",
        "\n",
        "print(type(esempioFunzione2(5)))\n",
        "print(type(esempioFunzione2(\"Sandro\")))"
      ],
      "metadata": {
        "id": "ItQ4ORSWBzlE"
      },
      "execution_count": null,
      "outputs": []
    },
    {
      "cell_type": "markdown",
      "source": [
        "## Strutture dati\n",
        "\n",
        "Le strutture dati predefinite di Python sono:\n",
        "* **tuple**, definite con i simboli `()`\n",
        "* **list**, definite con i simboli `[]`\n",
        "* **dictionary**, definite con i simboli `{}`\n",
        "\n",
        "Di queste, le tuple, una volta definite, non possono essere più modificate: si dicono pertanto **IMMUTABILI**"
      ],
      "metadata": {
        "id": "u2XHj_X20lAV"
      }
    },
    {
      "cell_type": "markdown",
      "source": [
        "## Tuple\n",
        "\n",
        "Una tupla è un insieme immutabile di valori accessibili da indice"
      ],
      "metadata": {
        "id": "T8zo08Dm-ctC"
      }
    },
    {
      "cell_type": "code",
      "source": [
        "t = (\"Margaret\", \"Hamilton\")\n",
        "print(t[0])\n",
        "print(t[1])\n",
        "print(t[2]) # l'indice non esiste"
      ],
      "metadata": {
        "id": "gCZ3kg8J-k85"
      },
      "execution_count": null,
      "outputs": []
    },
    {
      "cell_type": "markdown",
      "source": [
        "Una funzione può restituire una tupla"
      ],
      "metadata": {
        "id": "4L_c8BV8-1Wr"
      }
    },
    {
      "cell_type": "code",
      "source": [
        "def getUser(userId):\n",
        "  if userId == 1:\n",
        "    return \"Sandro\", \"Zacchino\"\n",
        "  elif userId == 2:\n",
        "    return (\"Paul\", \"Newman\")\n",
        "\n",
        "nome, cognome = getUser(1)\n",
        "print(f\"{nome}, {cognome}\")\n",
        "user2 = getUser(2)\n",
        "\n",
        "# print(type(user1), user1[0], user1[1])\n",
        "# print(type(user2), user2[0], user2[1])\n",
        "\n",
        "women_cs_tuple = (\"Ada Lovelace\", \"Katherine Johnson\", \"Margaret Hamilton\", \"Susan Kare\", \"Adele Goldberg\")\n",
        "print(women_cs_tuple[1:3])\n"
      ],
      "metadata": {
        "id": "95Qy5ffd-4pZ"
      },
      "execution_count": null,
      "outputs": []
    },
    {
      "cell_type": "markdown",
      "source": [
        "Quindi utilizzando le tuple una funzione può restituire più di un valore\n"
      ],
      "metadata": {
        "id": "Gkqqtuyp_XJM"
      }
    },
    {
      "cell_type": "markdown",
      "source": [
        "## Liste\n",
        "\n",
        "Una lista è una collezione mutabile di valori. Possiamo dichiararla in uno dei sequenti modi:"
      ],
      "metadata": {
        "id": "GxGHFZhQKu6i"
      }
    },
    {
      "cell_type": "code",
      "source": [
        "prices = [] # prices è una lista vuota\n",
        "\n",
        "names = [\"Ada\", \"Susan\", \"Adele\"] # names è una lista che contiene stringhe di testo\n",
        "\n",
        "women_cs = [\"Ada Lovelace\", \"Katherine Johnson\", \"Margaret Hamilton\", \"Susan Kare\", \"Adele Goldberg\"]"
      ],
      "metadata": {
        "id": "sbuvZDhEK9Zv"
      },
      "execution_count": null,
      "outputs": []
    },
    {
      "cell_type": "markdown",
      "source": [
        "Una lista può contenere espressioni di qualsiasi tipo, anche differenti da elemento ad elemento."
      ],
      "metadata": {
        "id": "b_T1V6lhLmDe"
      }
    },
    {
      "cell_type": "code",
      "source": [
        "generic_list = [1, \"Stringa\", [\"Lista\", \"di\", \"stringhe\"], [1,2,3]]"
      ],
      "metadata": {
        "id": "TIqckVZPZkZg"
      },
      "execution_count": null,
      "outputs": []
    },
    {
      "cell_type": "markdown",
      "source": [
        "### Operatori per le espressioni List\n",
        "\n",
        "Così come per le stringhe, anche le espressioni di tipo List supportano gli operatori:"
      ],
      "metadata": {
        "id": "y6JpA2WCaC98"
      }
    },
    {
      "cell_type": "code",
      "source": [
        "[1,2,3] + [4,5]"
      ],
      "metadata": {
        "id": "jTQk_07aZ4R_"
      },
      "execution_count": null,
      "outputs": []
    },
    {
      "cell_type": "code",
      "source": [
        "a = \"Scottecs comics\"\n",
        "[\"fraffrog\", \"favij\", \"mandrake\"] + [\"the jackal\"] + [a]"
      ],
      "metadata": {
        "id": "LfkPsbUtOAIO"
      },
      "execution_count": null,
      "outputs": []
    },
    {
      "cell_type": "markdown",
      "source": [
        "È possibile lavorare sulle liste come per le stringhe:"
      ],
      "metadata": {
        "id": "Oe0RSBtXQ2r3"
      }
    },
    {
      "cell_type": "code",
      "source": [
        "print(x)\n",
        "print(x[1])\n",
        "print(x[0:2])\n",
        "print(x[-2])"
      ],
      "metadata": {
        "id": "4gPqoqk9Q87w"
      },
      "execution_count": null,
      "outputs": []
    },
    {
      "cell_type": "markdown",
      "source": [
        "### Lista a partire da una stringa\n",
        "\n",
        "Possiamo ottenere una lista di stringhe a partire da una stringa eseguendo la funzione `split()` della stessa."
      ],
      "metadata": {
        "id": "yRpUBOOgsnmo"
      }
    },
    {
      "cell_type": "code",
      "source": [
        "citazione = \"If debugging is the process of removing software bugs, then programming must be the process of putting them in.\" #Edsger Dijkstra\n",
        "\n",
        "print(citazione.split(\" \"))"
      ],
      "metadata": {
        "id": "0qczN2TtraTC"
      },
      "execution_count": null,
      "outputs": []
    },
    {
      "cell_type": "markdown",
      "source": [
        "### Loop su una lista\n",
        "\n",
        "Possiamo eseguire un loop su ogni elemento della lista"
      ],
      "metadata": {
        "id": "-htyc_E7t7XT"
      }
    },
    {
      "cell_type": "code",
      "source": [
        "women_cs = [\"Ada Lovelace\", \"Katherine Johnson\", \"Margaret Hamilton\", \"Susan Kare\", \"Adele Goldberg\"]\n",
        "for woman in women_cs:\n",
        "  print(woman)"
      ],
      "metadata": {
        "id": "_uGJWmD5uBKb",
        "colab": {
          "base_uri": "https://localhost:8080/"
        },
        "outputId": "434bad83-d525-4e0e-f2a5-540b69b1fe8b"
      },
      "execution_count": null,
      "outputs": [
        {
          "output_type": "stream",
          "name": "stdout",
          "text": [
            "Ada Lovelace\n",
            "Katherine Johnson\n",
            "Margaret Hamilton\n",
            "Susan Kare\n",
            "Adele Goldberg\n"
          ]
        }
      ]
    },
    {
      "cell_type": "markdown",
      "source": [
        "### Esercizio List.1\n",
        "Eseguire lo split di una stringa (ad esempio la stringa `citazione`) e, per ogni elemento della lista, stampare l'elemento e la sua lunghezza.\n"
      ],
      "metadata": {
        "id": "PaPG1kimsrPf"
      }
    },
    {
      "cell_type": "code",
      "source": [
        "#Scrivere qui il codice dell'esercizio List.1\n"
      ],
      "metadata": {
        "id": "8caLfMm4rnC-"
      },
      "execution_count": null,
      "outputs": []
    },
    {
      "cell_type": "markdown",
      "source": [
        "## List comprehension\n",
        "\n",
        "La creazione di una lista si può realizzare con la sintassi della list comprehension. Una prima versione della sintassi è la seguente:"
      ],
      "metadata": {
        "id": "O5QFKciwSqsQ"
      }
    },
    {
      "cell_type": "code",
      "source": [
        "# creazione di una list comprehension\n",
        "\n",
        "list_con = [f\"Utente {i}\" for i in range(10)]\n",
        "print(list_con)"
      ],
      "metadata": {
        "id": "YUkP8a38ywaj"
      },
      "execution_count": null,
      "outputs": []
    },
    {
      "cell_type": "markdown",
      "source": [
        "### Esercizio Comprehension.1\n",
        "\n",
        "Creare una list comprehension che contenga delle stringhe in cui c'è il numero ed il resto della divisione per 2 per tutti i numeri che vanno da 0 a 14."
      ],
      "metadata": {
        "id": "VU_DBtUstdkm"
      }
    },
    {
      "cell_type": "code",
      "source": [
        "#Scrivere qui il codice dell'esercizio Comprehension.1\n",
        "\n"
      ],
      "metadata": {
        "id": "DHjOiiRfthtP"
      },
      "execution_count": null,
      "outputs": []
    },
    {
      "cell_type": "markdown",
      "source": [
        "Creazione di una lista simile alla precedente ma solo per i numeri dispari:"
      ],
      "metadata": {
        "id": "pD7Zy9IezT7m"
      }
    },
    {
      "cell_type": "code",
      "source": [
        "# creazione di una list comprehension per gli indici dispari\n",
        "\n",
        "list_con = [f\"Utente {i}\" for i in range(1, 10, 2)]\n",
        "print(list_con)"
      ],
      "metadata": {
        "id": "jTfQp_OHzarZ"
      },
      "execution_count": null,
      "outputs": []
    },
    {
      "cell_type": "markdown",
      "source": [
        "### Definizione di una list comprehension a partire da un'altra list"
      ],
      "metadata": {
        "id": "01S3giOF0Y2c"
      }
    },
    {
      "cell_type": "code",
      "source": [
        "women_cs = [\"Ada Lovelace\", \"Katherine Johnson\", \"Margaret Hamilton\", \"Susan Kare\", \"Adele Goldberg\"]\n",
        "print(\"Nomi Completi\", women_cs)\n"
      ],
      "metadata": {
        "id": "TReaTHypS4gd"
      },
      "execution_count": null,
      "outputs": []
    },
    {
      "cell_type": "markdown",
      "source": [
        "Una list comprehension si definisce all'interno delle parentesi quadre, che identificano le liste, utilizzando uno o più costrutti `for` per iterare su dati definiti nel programma."
      ],
      "metadata": {
        "id": "rRmpatnOhtGC"
      }
    },
    {
      "cell_type": "code",
      "source": [
        "women_cs = [\"Ada Lovelace\", \"Katherine Johnson\", \"Margaret Hamilton\", \"Susan Kare\", \"Adele Goldberg\"]\n",
        "list_com = [woman for woman in women_cs]\n",
        "print(list_com)"
      ],
      "metadata": {
        "id": "rLWRPqJSjJg7"
      },
      "execution_count": null,
      "outputs": []
    },
    {
      "cell_type": "markdown",
      "source": [
        "Il codice precedente restituisce banalmente la lista iniziale."
      ],
      "metadata": {
        "id": "1v31qXQbvCdL"
      }
    },
    {
      "cell_type": "markdown",
      "source": [
        "### Esercizio Comprehension.2\n",
        "\n",
        "Data la lista `women_cs`, scrivere una list comprehension che contenga le lunghezze di tutti i suoi elementi."
      ],
      "metadata": {
        "id": "wO117WcavDqC"
      }
    },
    {
      "cell_type": "code",
      "source": [
        "#Scrivere qui il codice dell'esercizio Comprehension.2\n",
        "\n",
        "women_cs = [\"Ada Lovelace\", \"Katherine Johnson\", \"Margaret Hamilton\", \"Susan Kare\", \"Adele Goldberg\"]\n"
      ],
      "metadata": {
        "id": "htgQkqnZvReg"
      },
      "execution_count": null,
      "outputs": []
    },
    {
      "cell_type": "markdown",
      "source": [
        "### Filtrare nella creazione della comprehension\n",
        "\n",
        "Nella comprehension possiamo **filtrare** i dati che inseriamo nella lista; il filtraggio lo eseguiamo con una istruzione `if` ed una espressione **boolena**:"
      ],
      "metadata": {
        "id": "1zJsap1ijYB-"
      }
    },
    {
      "cell_type": "code",
      "source": [
        "women_cs = [\"Ada Lovelace\", \"Katherine Johnson\", \"Margaret Hamilton\", \"Susan Kare\", \"Adele Goldberg\"]\n",
        "list_com = [woman for woman in women_cs if len(woman) < 13]\n",
        "print(list_com)"
      ],
      "metadata": {
        "id": "qC9Y0Wp3ji0x"
      },
      "execution_count": null,
      "outputs": []
    },
    {
      "cell_type": "markdown",
      "source": [
        "### `for` multipli nella comprehension\n",
        "\n",
        "Nella comprehension possiamo aggiungere più costrutti `for` eventualmente in cascata. Nel seguente esempio, il primo for itera nella lista ed il secondo itera sulla variabile del primo `for`; inserisco nel:la comprehension solo la variabile del secondo `for`"
      ],
      "metadata": {
        "id": "ekwUdIlLj0zD"
      }
    },
    {
      "cell_type": "code",
      "source": [
        "women_cs_letters = [letter for woman in women_cs for letter in woman if letter != ' ']\n",
        "\n",
        "print(\"Lettere\", women_cs_letters)\n"
      ],
      "metadata": {
        "id": "8lZ1AuCBUZ_v"
      },
      "execution_count": null,
      "outputs": []
    },
    {
      "cell_type": "markdown",
      "source": [
        "## Dictionary\n",
        "\n",
        "Una lista è una collezione di oggetti a cui posso accedere con un indice numerico:"
      ],
      "metadata": {
        "id": "wzvqDh4e9x7C"
      }
    },
    {
      "cell_type": "code",
      "source": [
        "women_cs = [\"Ada Lovelace\", \"Katherin Johnson\", \"Margaret Hamilton\", \"Susan Kare\", \"Adele Goldberg\"] # è una lista\n",
        "print(women_cs[2])"
      ],
      "metadata": {
        "id": "4Jp_tRXa-Bod"
      },
      "execution_count": null,
      "outputs": []
    },
    {
      "cell_type": "markdown",
      "source": [
        "La lista è comoda quando abbiamo N oggetti indicizzati con numeri che vanno da 0 a N.\n",
        "\n",
        "Accedendo con un numero, otteniamo l'oggetto memorizzato nella lista. Ad esempio `women_cs[2]`.\n",
        "\n",
        "Possiamo avere la necessità di recuperare un oggetto avendo solo un suo identificativo (numerico o testuale), ad esempio:\n",
        "\n",
        "- per una persona il codice fiscale;\n",
        "- per un conto bancario il numero di conto;\n",
        "- per un sito web il codice univoco dell'utente registrato a quel sito (spesso numerico).\n",
        "\n",
        "Quindi abbiamo la necessità di memorizzare l'associazione tra l'identificativo (detto anche **chiave**) e un valore (che può essere numero, testo, lista, tupla, ecc).\n",
        "\n",
        "Per questo utilizziamo i **dictionary**: in altri linguaggi sono noti come map (c++, c# e java), hash_table (c) oppure objects (javascript).\n",
        "\n",
        "Gli oggetti del formato JSON (analoghi a quelli di Javascript) sono un caso di dictionary."
      ],
      "metadata": {
        "id": "oNrTdRGtHPHZ"
      }
    },
    {
      "cell_type": "code",
      "source": [
        "mhData = {\n",
        "    \"firstname\": \"Margaret\",\n",
        "    \"lastname\": \"Hamilton\",\n",
        "    \"importance\": \"scrisse il codice per i calcoli di guida dei razzi Apollo\"\n",
        "    }\n",
        "print(mhData)\n",
        "print(\"Il suo nome è\", mhData['firstname'])"
      ],
      "metadata": {
        "id": "Dbvp9bsYJHSM"
      },
      "execution_count": null,
      "outputs": []
    },
    {
      "cell_type": "code",
      "source": [
        "datifiscali = [{\n",
        "    \"ZCC\": {\n",
        "        \"nome\": \"Sandro\",\n",
        "        \"cognome\": \"Zacchino\",\n",
        "        \"eta\": 50\n",
        "    },\n",
        "    \"MTT\": [\"Jack\",\"Frusciante\"],\n",
        "    \"RFF\": \"Lisa\"\n",
        "}]\n",
        "\n",
        "cf = input(\"inserisci il codice fiscale \")\n",
        "cf = cf.upper()\n",
        "print(\"I dati che ti riguardano che ho in archivio sono \", datifiscali[cf])"
      ],
      "metadata": {
        "id": "5EbjKC7fWcXC"
      },
      "execution_count": null,
      "outputs": []
    },
    {
      "cell_type": "markdown",
      "source": [
        "### Informazioni gerarchiche\n",
        "\n",
        "Un dictionary o una lista possono quindi essere utilizzati anche **insieme** per informazioni gerarchiche, come quelle trasmesse con JSON o con XML.\n",
        "\n",
        "Un elenco di utenti, ciascuno con i suoi dati può essere implementato come una lista di dictionary. Se per ciascun utente voglio memorizzare i progetti a cui partecipa posso usare una lista di dictionary e così via."
      ],
      "metadata": {
        "id": "JR99EQH6Lswq"
      }
    },
    {
      "cell_type": "code",
      "source": [
        "mhData = {\n",
        "    \"firstname\": \"Margaret\",\n",
        "    \"lastname\": \"Hamilton\",\n",
        "    \"importance\": \"scrisse il codice per i calcoli di guida dei razzi Apollo\",\n",
        "    \"projects\": [\n",
        "        {\n",
        "            \"projectName\": \"Sage\",\n",
        "            \"year\": \"1963\"\n",
        "        }, {\n",
        "            \"projectName\": \"Apollo Guidance\",\n",
        "            \"year\": \"1965\"\n",
        "        }]}\n",
        "apolloProjectName = mhData['projects'][1]['projectName']\n",
        "print(apolloProjectName)"
      ],
      "metadata": {
        "id": "ckTdBPASKkl9"
      },
      "execution_count": null,
      "outputs": []
    },
    {
      "cell_type": "code",
      "source": [
        "women_cs = [\n",
        "    {\n",
        "      \"firstname\": \"Margaret\",\n",
        "      \"lastname\": \"Hamilton\",\n",
        "      \"importance\": \"scrisse il codice per i calcoli di guida dei razzi Apollo\",\n",
        "      \"projects\": [\n",
        "        {\n",
        "          \"projectName\": \"Sage\",\n",
        "          \"year\": \"1963\"\n",
        "        },\n",
        "        {\n",
        "          \"projectName\": \"Apollo Guidance\",\n",
        "          \"year\": \"1965\"\n",
        "        }\n",
        "      ],\n",
        "    },\n",
        "    {\n",
        "      \"firstname\": \"Susan\",\n",
        "      \"lastname\": \"Kare\",\n",
        "      \"importance\": \"Disegnò font e icone del primo Macintosh\",\n",
        "      \"projects\": [\n",
        "        {\n",
        "          \"projectName\": \"Apple Macintosh UI\",\n",
        "          \"year\": \"1982\"\n",
        "        },\n",
        "        {\n",
        "          \"projectName\": \"NeXT computer Creative Director\",\n",
        "          \"year\": \"1986\"\n",
        "        }\n",
        "      ]\n",
        "    }\n",
        "]\n"
      ],
      "metadata": {
        "id": "mVw0ca8FLrNN"
      },
      "execution_count": null,
      "outputs": []
    },
    {
      "cell_type": "markdown",
      "source": [
        "### Metodi della classe dictionary\n",
        "\n",
        "* `.keys()` restituisce una lista con tutte le chiavi\n",
        "* `.values()` restituisce una lista con tutti i valori\n",
        "* `.items()` restituisce una lista di tuple (chiave, valore)\n",
        "* `.get(key, default)` restituisce il valore della chiave, se esiste, altrimenti default"
      ],
      "metadata": {
        "id": "5Z0NFFjMGOGp"
      }
    },
    {
      "cell_type": "code",
      "source": [
        "print(women_cs[0].keys())\n",
        "print(women_cs[0].values())\n",
        "print(women_cs[0].items())"
      ],
      "metadata": {
        "id": "8aPh-2RviN46"
      },
      "execution_count": null,
      "outputs": []
    },
    {
      "cell_type": "code",
      "source": [
        "#.get()\n",
        "\n",
        "dic = {} #dizionario vuoto\n",
        "\n",
        "for i in range(10):\n",
        "  key = f\"item{i % 3}\"\n",
        "  if not (i % 3):\n",
        "    dic[key] = dic.get(key, 0) + i\n",
        "  else:\n",
        "    dic[key] = dic.get(key, 0) + 1\n",
        "print(dic)"
      ],
      "metadata": {
        "id": "SaOvIp4UubBk"
      },
      "execution_count": null,
      "outputs": []
    },
    {
      "cell_type": "code",
      "source": [
        "#@title Loop sui dictionaries\n",
        "susan = {\n",
        "      \"firstname\": \"Susan\",\n",
        "      \"lastname\": \"Kare\",\n",
        "      \"importance\": \"Disegnò font e icone del primo Macintosh\",\n",
        "      \"projects\": [\n",
        "        {\n",
        "          \"projectName\": \"Apple Macintosh UI\",\n",
        "          \"year\": \"1982\"\n",
        "        },\n",
        "        {\n",
        "          \"projectName\": \"NeXT computer Creative Director\",\n",
        "          \"year\": \"1986\"\n",
        "        }\n",
        "      ]\n",
        "    }\n",
        "for key in susan:\n",
        "  print(key, end=': ')\n",
        "  print(susan[key])\n",
        "\n"
      ],
      "metadata": {
        "id": "p_ru0CPSnvyM"
      },
      "execution_count": null,
      "outputs": []
    },
    {
      "cell_type": "code",
      "source": [
        "#@title Iterazione mediate il metodo `.items()`\n",
        "\n",
        "for (key,value) in susan.items():\n",
        "  print(key,value)\n",
        "print(\"-\" * 20)"
      ],
      "metadata": {
        "id": "MCrodGBM9lE7"
      },
      "execution_count": null,
      "outputs": []
    }
  ]
}